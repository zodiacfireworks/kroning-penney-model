{
 "cells": [
  {
   "cell_type": "markdown",
   "metadata": {},
   "source": [
    "# Funciones útiles"
   ]
  },
  {
   "cell_type": "code",
   "execution_count": 39,
   "metadata": {},
   "outputs": [],
   "source": [
    "%matplotlib notebook"
   ]
  },
  {
   "cell_type": "code",
   "execution_count": 40,
   "metadata": {},
   "outputs": [],
   "source": [
    "from distutils.spawn import find_executable\n",
    "\n",
    "from matplotlib.font_manager import *\n",
    "from matplotlib.collections import *\n",
    "from matplotlib.patches import *\n",
    "from matplotlib.pylab import *\n",
    "from matplotlib import colors\n",
    "\n",
    "import seaborn\n",
    "\n",
    "rem = 16\n",
    "\n",
    "seaborn.set(context='notebook', style='darkgrid')\n",
    "\n",
    "ioff()\n",
    "\n",
    "rc('lines', linewidth=1)\n",
    "rc('font', family='serif')\n",
    "rc('font', size=rem)\n",
    "rc('axes', titlepad=1.500*rem)\n",
    "rc('axes', titlesize=1.728*rem)\n",
    "rc('axes', labelsize=1.200*rem)\n",
    "rc('legend', fontsize=1.000*rem)\n",
    "rc('xtick', labelsize=0.833*rem)\n",
    "rc('ytick', labelsize=0.833*rem)\n",
    "\n",
    "if find_executable('latex'):\n",
    "    rc('text', usetex=True)"
   ]
  },
  {
   "cell_type": "code",
   "execution_count": 41,
   "metadata": {},
   "outputs": [],
   "source": [
    "import numpy\n",
    "from numpy import *\n",
    "from scipy.integrate import simps"
   ]
  },
  {
   "cell_type": "markdown",
   "metadata": {},
   "source": [
    "## Segunda derivada"
   ]
  },
  {
   "cell_type": "code",
   "execution_count": 42,
   "metadata": {},
   "outputs": [],
   "source": [
    "def second_derivative(data, h):\n",
    "    out = numpy.array(data)\n",
    "    for i in range(1, len(data) - 1):\n",
    "        out[i] = data[i + 1] - 2 * data[i] + data[i - 1]\n",
    "    out = out / (h * h)\n",
    "    out[0] = out[1]\n",
    "    out[-1] = out[-2]\n",
    "\n",
    "    out[0] = (data[2] - 2 * data[1] + data[0])/(h**2)\n",
    "    out[-1] = (data[-1] - 2 * data[-1-1] + data[-1-2])/(h**2)\n",
    "    \n",
    "    return out"
   ]
  },
  {
   "cell_type": "markdown",
   "metadata": {},
   "source": [
    "## $\\theta$ de Heaviside"
   ]
  },
  {
   "cell_type": "code",
   "execution_count": 43,
   "metadata": {},
   "outputs": [],
   "source": [
    "def heaviside(x):\n",
    "    out = numpy.zeros_like(x)\n",
    "    out[x >= 0] = 1.0\n",
    "    \n",
    "    return out"
   ]
  },
  {
   "cell_type": "markdown",
   "metadata": {},
   "source": [
    "## Obtención de las matrices $T$, $V$ y $S$"
   ]
  },
  {
   "cell_type": "code",
   "execution_count": 44,
   "metadata": {},
   "outputs": [],
   "source": [
    "def get_Matrices(values_n, data_basis, data_potential, x):\n",
    "    S = numpy.zeros(shape=(len(values_n), len(values_n)))\n",
    "    T = numpy.zeros(shape=(len(values_n), len(values_n)))\n",
    "    V = numpy.zeros(shape=(len(values_n), len(values_n)))\n",
    "    \n",
    "    for m, mval in enumerate(values_n):\n",
    "        for n, nval in enumerate(values_n):\n",
    "            S[m, n] = float(\"%0.4f\" % simps(numpy.conjugate(\n",
    "                data_basis[mval]) * data_basis[nval], x).real)\n",
    "    \n",
    "            T[m, n] = simps(numpy.conjugate(\n",
    "                data_basis[mval]) * (-0.5) * second_derivative(\n",
    "                data_basis[nval], x[1] - x[0]), x).real\n",
    "        \n",
    "            V[m, n] = simps(numpy.conjugate(\n",
    "                data_basis[mval]) * data_potential * data_basis[nval], x).real\n",
    "            \n",
    "    return S, T, V"
   ]
  },
  {
   "cell_type": "markdown",
   "metadata": {},
   "source": [
    "## Obtención de los autovalores y autovectores"
   ]
  },
  {
   "cell_type": "code",
   "execution_count": 45,
   "metadata": {},
   "outputs": [],
   "source": [
    "def eigen_vec_vals(S, values_n, ERROR, H):\n",
    "    if numpy.allclose(S, numpy.identity(len(values_n)), atol=ERROR):\n",
    "        E, C = numpy.linalg.eig(H)\n",
    "        C_prime = C.copy()\n",
    "    else:\n",
    "        diag, U = numpy.linalg.eig(S)\n",
    "        Sd = numpy.diag(diag)\n",
    "        V = numpy.dot(U, numpy.linalg.inv(Sd)**0.5)\n",
    "\n",
    "        H_prime = numpy.dot(numpy.dot(numpy.conjugate(V.T), H), V)\n",
    "        E, C_prime = numpy.linalg.eig(H_prime)\n",
    "        C = numpy.dot(V, C_prime)\n",
    "        \n",
    "    return E, C, C_prime"
   ]
  },
  {
   "cell_type": "markdown",
   "metadata": {},
   "source": [
    "# Solución"
   ]
  },
  {
   "cell_type": "code",
   "execution_count": 8,
   "metadata": {},
   "outputs": [],
   "source": [
    "def potential(x, Vo=1.0, width=1.0):\n",
    "    return Vo * heaviside(x - width / 2 + 0.25*width) * (1 - heaviside(x - width / 2 - 0.25*width))\n",
    "\n",
    "def basis_n_K(n, K, width=1.0, x=[1.0]):\n",
    "    return sqrt(1 / width) * exp(1.0j * (K + 2 * pi * n / width) * x)"
   ]
  },
  {
   "cell_type": "code",
   "execution_count": 9,
   "metadata": {},
   "outputs": [],
   "source": [
    "width = 1.0\n",
    "ndiv = 100\n",
    "ndiv_k = 50\n",
    "N = 15\n",
    "\n",
    "x = numpy.linspace(0, width, ndiv)\n",
    "\n",
    "data_potential = potential(x, Vo=50, width=width)\n",
    "\n",
    "values_n = [0]\n",
    "for n in range(1, N+1):\n",
    "    values_n.append(n)\n",
    "    values_n.append(-n)\n",
    "\n",
    "K_arr = numpy.linspace(-pi/width, pi/width, ndiv_k)\n",
    "\n",
    "A = {}\n",
    "for m in values_n:\n",
    "    A[m] = simps(\n",
    "        numpy.conjugate(basis_n_K(m, 0, width=width, x=x)) * basis_n_K(m, 0, width=width, x=x),\n",
    "        x\n",
    "    ).real\n",
    "    \n",
    "T = numpy.zeros(shape=(len(values_n), len(values_n), len(K_arr)))\n",
    "V = numpy.zeros(shape=(len(values_n), len(values_n), len(K_arr)))\n",
    "S = numpy.zeros(shape=(len(values_n), len(values_n), len(K_arr)))\n",
    "\n",
    "for k, K in enumerate(K_arr):\n",
    "    data_basis = {}\n",
    "    \n",
    "    for m in values_n:\n",
    "        data_basis[m] = basis_n_K(m, K, width=width, x=x) / sqrt(A[m])\n",
    "\n",
    "    S_, T_, V_ = get_Matrices(values_n, data_basis, data_potential, x)\n",
    "    S[:, :, k] = S_\n",
    "    T[:, :, k] = T_\n",
    "    V[:, :, k] = V_\n",
    "H = T + V\n",
    "\n",
    "energies = list()\n",
    "uenergies = list()\n",
    "amplitudes = list()\n",
    "for k, K in enumerate(K_arr):\n",
    "    eigenenergies, eigenvectors = numpy.linalg.eig(H[:, :, k])\n",
    "    uenergies.append(eigenenergies)\n",
    "    amplitudes.append(eigenvectors)\n",
    "    energies.append(sorted(eigenenergies))\n",
    "    \n",
    "energies = numpy.array(energies)"
   ]
  },
  {
   "cell_type": "code",
   "execution_count": 36,
   "metadata": {},
   "outputs": [
    {
     "ename": "TypeError",
     "evalue": "can't multiply sequence by non-int of type 'float'",
     "output_type": "error",
     "traceback": [
      "\u001b[0;31m---------------------------------------------------------------------------\u001b[0m",
      "\u001b[0;31mTypeError\u001b[0m                                 Traceback (most recent call last)",
      "\u001b[0;32m<ipython-input-36-520230b5543b>\u001b[0m in \u001b[0;36m<module>\u001b[0;34m()\u001b[0m\n\u001b[1;32m     10\u001b[0m \u001b[0;34m\u001b[0m\u001b[0m\n\u001b[1;32m     11\u001b[0m             \u001b[0;32mfor\u001b[0m \u001b[0mc\u001b[0m \u001b[0;32min\u001b[0m \u001b[0meigenvector\u001b[0m\u001b[0;34m:\u001b[0m\u001b[0;34m\u001b[0m\u001b[0m\n\u001b[0;32m---> 12\u001b[0;31m                 \u001b[0my\u001b[0m \u001b[0;34m=\u001b[0m \u001b[0my\u001b[0m \u001b[0;34m+\u001b[0m \u001b[0mc\u001b[0m \u001b[0;34m*\u001b[0m \u001b[0mbasis_n_K\u001b[0m\u001b[0;34m(\u001b[0m\u001b[0mm\u001b[0m\u001b[0;34m,\u001b[0m \u001b[0mK\u001b[0m\u001b[0;34m,\u001b[0m \u001b[0mwidth\u001b[0m\u001b[0;34m=\u001b[0m\u001b[0mwidth\u001b[0m\u001b[0;34m,\u001b[0m \u001b[0mx\u001b[0m\u001b[0;34m=\u001b[0m\u001b[0mx\u001b[0m\u001b[0;34m)\u001b[0m\u001b[0;34m\u001b[0m\u001b[0m\n\u001b[0m\u001b[1;32m     13\u001b[0m \u001b[0;34m\u001b[0m\u001b[0m\n\u001b[1;32m     14\u001b[0m                 \u001b[0;32mif\u001b[0m \u001b[0mnumpy\u001b[0m\u001b[0;34m.\u001b[0m\u001b[0mrandom\u001b[0m\u001b[0;34m.\u001b[0m\u001b[0mrand\u001b[0m\u001b[0;34m(\u001b[0m\u001b[0;34m)\u001b[0m \u001b[0;34m>\u001b[0m \u001b[0;36m0.99\u001b[0m\u001b[0;34m:\u001b[0m\u001b[0;34m\u001b[0m\u001b[0m\n",
      "\u001b[0;32m<ipython-input-8-b99f93957325>\u001b[0m in \u001b[0;36mbasis_n_K\u001b[0;34m(n, K, width, x)\u001b[0m\n\u001b[1;32m      3\u001b[0m \u001b[0;34m\u001b[0m\u001b[0m\n\u001b[1;32m      4\u001b[0m \u001b[0;32mdef\u001b[0m \u001b[0mbasis_n_K\u001b[0m\u001b[0;34m(\u001b[0m\u001b[0mn\u001b[0m\u001b[0;34m,\u001b[0m \u001b[0mK\u001b[0m\u001b[0;34m,\u001b[0m \u001b[0mwidth\u001b[0m\u001b[0;34m=\u001b[0m\u001b[0;36m1.0\u001b[0m\u001b[0;34m,\u001b[0m \u001b[0mx\u001b[0m\u001b[0;34m=\u001b[0m\u001b[0;34m[\u001b[0m\u001b[0;36m1.0\u001b[0m\u001b[0;34m]\u001b[0m\u001b[0;34m)\u001b[0m\u001b[0;34m:\u001b[0m\u001b[0;34m\u001b[0m\u001b[0m\n\u001b[0;32m----> 5\u001b[0;31m     \u001b[0;32mreturn\u001b[0m \u001b[0msqrt\u001b[0m\u001b[0;34m(\u001b[0m\u001b[0;36m1\u001b[0m \u001b[0;34m/\u001b[0m \u001b[0mwidth\u001b[0m\u001b[0;34m)\u001b[0m \u001b[0;34m*\u001b[0m \u001b[0mexp\u001b[0m\u001b[0;34m(\u001b[0m\u001b[0;36m1.0j\u001b[0m \u001b[0;34m*\u001b[0m \u001b[0;34m(\u001b[0m\u001b[0mK\u001b[0m \u001b[0;34m+\u001b[0m \u001b[0;36m2\u001b[0m \u001b[0;34m*\u001b[0m \u001b[0mpi\u001b[0m \u001b[0;34m*\u001b[0m \u001b[0mn\u001b[0m \u001b[0;34m/\u001b[0m \u001b[0mwidth\u001b[0m\u001b[0;34m)\u001b[0m \u001b[0;34m*\u001b[0m \u001b[0mx\u001b[0m\u001b[0;34m)\u001b[0m\u001b[0;34m\u001b[0m\u001b[0m\n\u001b[0m",
      "\u001b[0;31mTypeError\u001b[0m: can't multiply sequence by non-int of type 'float'"
     ]
    }
   ],
   "source": [
    "uenergies = numpy.array(uenergies)\n",
    "amplitudes = numpy.array(amplitudes)\n",
    "\n",
    "for m in enumerate(values_n):\n",
    "    for n, eigenenergy in enumerate(uenergies[:, m]):\n",
    "        eigenvector = amplitudes[n, :, m]\n",
    "        \n",
    "        for K in K_arr:\n",
    "            y = numpy.zeros(shape=x.shape)\n",
    "            \n",
    "            for c in eigenvector:\n",
    "                print(\"***\")\n",
    "                print(\"E = \", eigenenergy)\n",
    "                print(\"K = \", K)\n",
    "                print(\"E = \", eigenenergy)\n",
    "                y = y + c * basis_n_K(m, K, width=width, x=x)\n",
    "                \n",
    "                if numpy.random.rand() > 0.99:\n",
    "                    plot(x, numpy.abs(y * y.conj()))\n",
    "                    show()\n",
    "                    time.sleep(5)"
   ]
  },
  {
   "cell_type": "code",
   "execution_count": 31,
   "metadata": {},
   "outputs": [
    {
     "data": {
      "text/plain": [
       "(50,)"
      ]
     },
     "execution_count": 31,
     "metadata": {},
     "output_type": "execute_result"
    }
   ],
   "source": [
    "K_arr.shape"
   ]
  },
  {
   "cell_type": "code",
   "execution_count": 32,
   "metadata": {},
   "outputs": [
    {
     "data": {
      "text/plain": [
       "(50, 31)"
      ]
     },
     "execution_count": 32,
     "metadata": {},
     "output_type": "execute_result"
    }
   ],
   "source": [
    "uenergies.shape"
   ]
  },
  {
   "cell_type": "code",
   "execution_count": 33,
   "metadata": {},
   "outputs": [
    {
     "data": {
      "text/plain": [
       "(50, 31, 31)"
      ]
     },
     "execution_count": 33,
     "metadata": {},
     "output_type": "execute_result"
    }
   ],
   "source": [
    "amplitudes.shape"
   ]
  },
  {
   "cell_type": "code",
   "execution_count": 34,
   "metadata": {},
   "outputs": [
    {
     "data": {
      "text/plain": [
       "(31,)"
      ]
     },
     "execution_count": 34,
     "metadata": {},
     "output_type": "execute_result"
    }
   ],
   "source": [
    "eigenvector.shape"
   ]
  },
  {
   "cell_type": "code",
   "execution_count": 38,
   "metadata": {},
   "outputs": [
    {
     "name": "stderr",
     "output_type": "stream",
     "text": [
      "/opt/conda/envs/kroning-penney-model/lib/python3.6/site-packages/matplotlib/cbook/deprecation.py:106: MatplotlibDeprecationWarning: Adding an axes using the same arguments as a previous axes currently reuses the earlier instance.  In a future version, a new instance will always be created and returned.  Meanwhile, this warning can be suppressed, and the future behavior ensured, by passing a unique label to each axes instance.\n",
      "  warnings.warn(message, mplDeprecation, stacklevel=1)\n"
     ]
    }
   ],
   "source": [
    "fibBands_PAGE2 = figure(1)\n",
    "ax = fibBands_PAGE2.add_subplot(111)\n",
    "\n",
    "for n in range(6):\n",
    "    ax.plot(K_arr * width / pi, energies[:, n], lw=2)\n",
    "\n",
    "    if n==0:\n",
    "        min1 = max(energies[:, n])\n",
    "    else:\n",
    "        max1 = min(energies[:, n])\n",
    "        ax.add_patch(Rectangle((min(K_arr) * width / numpy.pi, min1),\n",
    "                                           2 * max(K_arr) * width / numpy.pi, max1-min1,\n",
    "                                           facecolor=\"green\",\n",
    "                                           alpha=0.2, lw=0))\n",
    "    min1 = max(energies[:, n])\n",
    "\n",
    "ax.set_xlabel(r\"$K \\cdot width/\\pi$\")\n",
    "ax.set_ylabel(r\"$E$\")\n",
    "ax_potential = ax.twinx()\n",
    "lim_min = min([ax.get_ylim()[0], ax_potential.get_ylim()[0]])\n",
    "lim_max = max([ax.get_ylim()[1], ax_potential.get_ylim()[1]])\n",
    "ax_potential.set_ylim(lim_min, lim_max)\n",
    "ax.set_ylim(lim_min, lim_max)\n",
    "\n",
    "newx = numpy.sort(numpy.concatenate((x, -x)))\n",
    "hatch = \"/\"\n",
    "alpha=0.3\n",
    "fcol = \"red\"\n",
    "ax_potential.fill_between(x, 0, data_potential, hatch=hatch, facecolor=fcol, alpha=alpha)\n",
    "ax_potential.fill_between(-x, 0, data_potential, hatch=hatch, facecolor=fcol, alpha=alpha)\n",
    "\n",
    "ax_potential.set_ylabel(r\"$V\\left(x\\right)$\",\n",
    "                        color=\"r\")\n",
    "fibBands_PAGE2.tight_layout()\n",
    "ax.grid(False)\n",
    "ax_potential.grid(False)\n",
    "show()"
   ]
  },
  {
   "cell_type": "code",
   "execution_count": 146,
   "metadata": {},
   "outputs": [
    {
     "data": {
      "text/plain": [
       "(50, 50, 31)"
      ]
     },
     "execution_count": 146,
     "metadata": {},
     "output_type": "execute_result"
    }
   ],
   "source": [
    "uenergies = numpy.array(uenergies)\n",
    "uenergies.shape"
   ]
  },
  {
   "cell_type": "code",
   "execution_count": null,
   "metadata": {},
   "outputs": [],
   "source": []
  }
 ],
 "metadata": {
  "kernelspec": {
   "display_name": "Python 3",
   "language": "python",
   "name": "python3"
  },
  "language_info": {
   "codemirror_mode": {
    "name": "ipython",
    "version": 3
   },
   "file_extension": ".py",
   "mimetype": "text/x-python",
   "name": "python",
   "nbconvert_exporter": "python",
   "pygments_lexer": "ipython3",
   "version": "3.6.4"
  }
 },
 "nbformat": 4,
 "nbformat_minor": 2
}
