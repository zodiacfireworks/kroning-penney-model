{
 "cells": [
  {
   "cell_type": "markdown",
   "metadata": {},
   "source": [
    "<div class=\"clearfix\" style=\"padding: 10px; padding-left: 0px\">\n",
    "<img src=\"resources/img/softbutterfly-logo.png\" class=\"pull-left\" style=\"display: block; height: 40px; margin: 0;\"><img src=\"resources/img/jupyter-logo.png\" class=\"pull-right\"  style=\"display: block; height: 20px; margin-top: 10px;\">\n",
    "</div>"
   ]
  },
  {
   "cell_type": "markdown",
   "metadata": {},
   "source": [
    "# El modelo de Kroning-Penney<br><small>Solución Numérica</small>"
   ]
  },
  {
   "cell_type": "markdown",
   "metadata": {},
   "source": [
    "__Martín Josemaría Vuelta Rojas__<br>\n",
    "[`@zodiacfireworks`](https://github.com/zodiacfireworks)"
   ]
  },
  {
   "cell_type": "markdown",
   "metadata": {},
   "source": [
    "_Universidad Nacional Mayor de San Marcos_<br>\n",
    "Facultad de Ciencias Físicas<br>\n",
    "(`martin.vuelta@unmsm.edu.pe`)"
   ]
  },
  {
   "cell_type": "markdown",
   "metadata": {},
   "source": [
    "---"
   ]
  },
  {
   "cell_type": "markdown",
   "metadata": {},
   "source": [
    "## 1. Ajustes Gráficos"
   ]
  },
  {
   "cell_type": "code",
   "execution_count": 12,
   "metadata": {
    "collapsed": true
   },
   "outputs": [],
   "source": [
    "%matplotlib inline"
   ]
  },
  {
   "cell_type": "code",
   "execution_count": 13,
   "metadata": {
    "collapsed": true
   },
   "outputs": [],
   "source": [
    "from distutils.spawn import find_executable\n",
    "\n",
    "from matplotlib.font_manager import *\n",
    "from matplotlib.collections import *\n",
    "from matplotlib.patches import *\n",
    "from matplotlib.pylab import *\n",
    "from matplotlib import colors\n",
    "\n",
    "import seaborn\n",
    "\n",
    "rem = 16\n",
    "\n",
    "seaborn.set(context='notebook', style='darkgrid')\n",
    "\n",
    "ioff()\n",
    "\n",
    "rc('lines', linewidth=1)\n",
    "rc('font', family='serif')\n",
    "rc('font', size=rem)\n",
    "rc('axes', titlepad=1.500*rem)\n",
    "rc('axes', titlesize=1.728*rem)\n",
    "rc('axes', labelsize=1.200*rem)\n",
    "rc('legend', fontsize=1.000*rem)\n",
    "rc('xtick', labelsize=0.833*rem)\n",
    "rc('ytick', labelsize=0.833*rem)\n",
    "\n",
    "if find_executable('latex'):\n",
    "    rc('text', usetex=True)"
   ]
  },
  {
   "cell_type": "markdown",
   "metadata": {},
   "source": [
    "## 2. Funciones útiles"
   ]
  },
  {
   "cell_type": "code",
   "execution_count": 14,
   "metadata": {
    "collapsed": true
   },
   "outputs": [],
   "source": [
    "import numpy\n",
    "from numpy import *\n",
    "from scipy.integrate import simps"
   ]
  },
  {
   "cell_type": "markdown",
   "metadata": {},
   "source": [
    "### 2.1. Segunda derivada"
   ]
  },
  {
   "cell_type": "code",
   "execution_count": 15,
   "metadata": {
    "collapsed": true
   },
   "outputs": [],
   "source": [
    "def second_derivative(data, h):\n",
    "    out = numpy.array(data)\n",
    "    for i in range(1, len(data) - 1):\n",
    "        out[i] = data[i + 1] - 2 * data[i] + data[i - 1]\n",
    "    out = out / (h * h)\n",
    "    out[0] = out[1]\n",
    "    out[-1] = out[-2]\n",
    "\n",
    "    out[0] = (data[2] - 2 * data[1] + data[0])/(h**2)\n",
    "    out[-1] = (data[-1] - 2 * data[-1-1] + data[-1-2])/(h**2)\n",
    "    \n",
    "    return out"
   ]
  },
  {
   "cell_type": "markdown",
   "metadata": {},
   "source": [
    "### 2.2. $\\theta$ de Heaviside"
   ]
  },
  {
   "cell_type": "code",
   "execution_count": 16,
   "metadata": {
    "collapsed": true
   },
   "outputs": [],
   "source": [
    "def heaviside(x):\n",
    "    out = numpy.zeros_like(x)\n",
    "    out[x >= 0] = 1.0\n",
    "    \n",
    "    return out"
   ]
  },
  {
   "cell_type": "markdown",
   "metadata": {},
   "source": [
    "### 2.3. Obtención de las matrices $T$, $V$ y $S$"
   ]
  },
  {
   "cell_type": "code",
   "execution_count": 17,
   "metadata": {
    "collapsed": true
   },
   "outputs": [],
   "source": [
    "def get_stv(values_n, data_basis, data_potential, x):\n",
    "    S = numpy.zeros(shape=(len(values_n), len(values_n)))\n",
    "    T = numpy.zeros(shape=(len(values_n), len(values_n)))\n",
    "    V = numpy.zeros(shape=(len(values_n), len(values_n)))\n",
    "    \n",
    "    for m, mval in enumerate(values_n):\n",
    "        for n, nval in enumerate(values_n):\n",
    "            S[m, n] = float(\"%0.4f\" % simps(numpy.conjugate(\n",
    "                data_basis[mval]) * data_basis[nval], x).real)\n",
    "    \n",
    "            T[m, n] = simps(numpy.conjugate(\n",
    "                data_basis[mval]) * (-0.5) * second_derivative(\n",
    "                data_basis[nval], x[1] - x[0]), x).real\n",
    "        \n",
    "            V[m, n] = simps(numpy.conjugate(\n",
    "                data_basis[mval]) * data_potential * data_basis[nval], x).real\n",
    "            \n",
    "    return S, T, V"
   ]
  },
  {
   "cell_type": "markdown",
   "metadata": {},
   "source": [
    "## 3. Solución numérica de la ecuación de Schrödinger"
   ]
  },
  {
   "cell_type": "markdown",
   "metadata": {},
   "source": [
    "### 3.1. Función de potencial de barrera"
   ]
  },
  {
   "cell_type": "code",
   "execution_count": 18,
   "metadata": {
    "collapsed": true
   },
   "outputs": [],
   "source": [
    "# x: posición\n",
    "# Vo: Valor del ptencial\n",
    "# width: Ancho del pozo\n",
    "def potential(x, Vo=1.0, width=1.0):\n",
    "    return Vo * heaviside(x - width / 2 + 0.25*width) * (1 - heaviside(x - width / 2 - 0.25*width))"
   ]
  },
  {
   "cell_type": "markdown",
   "metadata": {},
   "source": [
    "### 3.2. Base de ondas planas"
   ]
  },
  {
   "cell_type": "code",
   "execution_count": 19,
   "metadata": {
    "collapsed": true
   },
   "outputs": [],
   "source": [
    "# n: Orden de la funcion\n",
    "# K: vector de onda\n",
    "# width: ancho del la barrera de potencial\n",
    "# x: corrdenadas de posicion\n",
    "def basis_n_K(n, K, width=1.0, x=[1.0]):\n",
    "    return sqrt(1 / width) * exp(1.0j * (K + 2 * pi * n / width) * x)"
   ]
  },
  {
   "cell_type": "markdown",
   "metadata": {},
   "source": [
    "### 3.3. Solución numérica de la ecuacion de Schrödinger "
   ]
  },
  {
   "cell_type": "code",
   "execution_count": 20,
   "metadata": {
    "collapsed": true
   },
   "outputs": [],
   "source": [
    "# unidades normalizadas: m = hbar = 1\n",
    "# Ancho del pozo\n",
    "width = 1.0\n",
    "# Numero de divisiones\n",
    "ndiv = 1000\n",
    "# K: Numero de onda desde -pi/a hasta pi/a con 50 divisiones\n",
    "ndiv_k = 100\n",
    "# Numero de funciones de la base empleadas\n",
    "N = 15\n",
    "# Coordenadas de posición\n",
    "x = numpy.linspace(0, width, ndiv)\n",
    "# Potencial a lo largo de X\n",
    "# Valor del potencial: Vo = 50\n",
    "data_potential = potential(x, Vo=50, width=width)\n",
    "# valores del orden de las funciones de potencial\n",
    "values_n = [0]\n",
    "for n in range(1, N+1):\n",
    "    values_n.append(n)\n",
    "    values_n.append(-n)\n",
    "#\n",
    "K_arr = numpy.linspace(-pi/width, pi/width, ndiv_k)\n",
    "\n",
    "A = {}\n",
    "for m in values_n:\n",
    "    A[m] = simps(\n",
    "        numpy.conjugate(basis_n_K(m, 0, width=width, x=x)) * basis_n_K(m, 0, width=width, x=x),\n",
    "        x\n",
    "    ).real\n",
    "\n",
    "# Determinacion de las matrices\n",
    "# T: energia cinética\n",
    "T = numpy.zeros(shape=(len(values_n), len(values_n), len(K_arr)))\n",
    "# V: energia potencial\n",
    "V = numpy.zeros(shape=(len(values_n), len(values_n), len(K_arr)))\n",
    "# S: matriz de solapamiento, si la base elegida es ortogonal es igual la identidad\n",
    "S = numpy.zeros(shape=(len(values_n), len(values_n), len(K_arr)))\n",
    "\n",
    "for k, K in enumerate(K_arr):\n",
    "    data_basis = {}\n",
    "    \n",
    "    for m in values_n:\n",
    "        data_basis[m] = basis_n_K(m, K, width=width, x=x) / sqrt(A[m])\n",
    "\n",
    "    S_, T_, V_ = get_stv(values_n, data_basis, data_potential, x)\n",
    "    S[:, :, k] = S_\n",
    "    T[:, :, k] = T_\n",
    "    V[:, :, k] = V_\n",
    "    \n",
    "# Hamiltoniano\n",
    "H = T + V\n",
    "\n",
    "# Obtencion de los autovalores del hamiltniano\n",
    "# Energias\n",
    "energies = list()\n",
    "\n",
    "for k, K in enumerate(K_arr):\n",
    "    eigenenergies, eigenvectors = numpy.linalg.eig(H[:, :, k])\n",
    "    energies.append(sorted(eigenenergies))\n",
    "    \n",
    "energies = numpy.array(energies)"
   ]
  },
  {
   "cell_type": "markdown",
   "metadata": {},
   "source": [
    "### 3.4. Grafico de las bandas de energía"
   ]
  },
  {
   "cell_type": "code",
   "execution_count": 21,
   "metadata": {
    "scrolled": false
   },
   "outputs": [
    {
     "data": {
      "image/png": "[encoded data removed]",
      "text/plain": [
       "<Figure size 576x432 with 2 Axes>"
      ]
     },
     "metadata": {},
     "output_type": "display_data"
    }
   ],
   "source": [
    "# b = 0.25a\n",
    "fig = figure(1, figsize=[8, 6])\n",
    "ax = fig.add_subplot(111)\n",
    "\n",
    "for n in range(6):\n",
    "    ax.plot(K_arr * width / pi, energies[:, n], lw=2)\n",
    "\n",
    "    if n==0:\n",
    "        min1 = max(energies[:, n])\n",
    "    else:\n",
    "        max1 = min(energies[:, n])\n",
    "        ax.add_patch(Rectangle((min(K_arr) * width / numpy.pi, min1),\n",
    "                                           2 * max(K_arr) * width / numpy.pi, max1-min1,\n",
    "                                           facecolor=\"green\",\n",
    "                                           alpha=0.2, lw=0))\n",
    "    min1 = max(energies[:, n])\n",
    "\n",
    "ax.set_xlabel(r\"$K \\cdot width/\\pi$\")\n",
    "ax.set_ylabel(r\"$E$\")\n",
    "ax_potential = ax.twinx()\n",
    "lim_min = min([ax.get_ylim()[0], ax_potential.get_ylim()[0]])\n",
    "lim_max = max([ax.get_ylim()[1], ax_potential.get_ylim()[1]])\n",
    "ax_potential.set_ylim(lim_min, lim_max)\n",
    "ax.set_ylim(lim_min, lim_max)\n",
    "\n",
    "newx = numpy.sort(numpy.concatenate((x, -x)))\n",
    "hatch = \"/\"\n",
    "alpha=0.3\n",
    "fcol = \"red\"\n",
    "ax_potential.fill_between(x, 0, data_potential, hatch=hatch, facecolor=fcol, alpha=alpha)\n",
    "ax_potential.fill_between(-x, 0, data_potential, hatch=hatch, facecolor=fcol, alpha=alpha)\n",
    "\n",
    "ax_potential.set_ylabel(r\"$V\\left(x\\right)$\",\n",
    "                        color=\"r\")\n",
    "fig.tight_layout()\n",
    "ax.grid(False)\n",
    "ax_potential.grid(False)\n",
    "show()"
   ]
  },
  {
   "cell_type": "code",
   "execution_count": null,
   "metadata": {
    "collapsed": true
   },
   "outputs": [],
   "source": []
  },
  {
   "cell_type": "code",
   "execution_count": null,
   "metadata": {},
   "outputs": [],
   "source": []
  }
 ],
 "metadata": {
  "kernelspec": {
   "display_name": "Python 3",
   "language": "python",
   "name": "python3"
  },
  "language_info": {
   "codemirror_mode": {
    "name": "ipython",
    "version": 3
   },
   "file_extension": ".py",
   "mimetype": "text/x-python",
   "name": "python",
   "nbconvert_exporter": "python",
   "pygments_lexer": "ipython3",
   "version": "3.6.6"
  }
 },
 "nbformat": 4,
 "nbformat_minor": 2
}
