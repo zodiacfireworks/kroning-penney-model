{
 "cells": [
  {
   "cell_type": "markdown",
   "metadata": {},
   "source": [
    "<div class=\"clearfix\" style=\"padding: 10px; padding-left: 0px\">\n",
    "<img src=\"resources/img/softbutterfly-logo.png\" class=\"pull-left\" style=\"display: block; height: 40px; margin: 0;\"><img src=\"resources/img/jupyter-logo.png\" class=\"pull-right\"  style=\"display: block; height: 20px; margin-top: 10px;\">\n",
    "</div>"
   ]
  },
  {
   "cell_type": "markdown",
   "metadata": {},
   "source": [
    "# El modelo de Kroning-Penney"
   ]
  },
  {
   "cell_type": "markdown",
   "metadata": {},
   "source": [
    "__Martín Josemaría Vuelta Rojas__<br>\n",
    "[`@zodiacfireworks`](https://github.com/zodiacfireworks)"
   ]
  },
  {
   "cell_type": "markdown",
   "metadata": {},
   "source": [
    "_Universidad Nacional Mayor de San Marcos_<br>\n",
    "Facultad de Ciencias Físicas<br>\n",
    "(`martin.vuelta@unmsm.edu.pe`)"
   ]
  },
  {
   "cell_type": "markdown",
   "metadata": {},
   "source": [
    "---"
   ]
  },
  {
   "cell_type": "markdown",
   "metadata": {},
   "source": [
    "###### Resumen"
   ]
  },
  {
   "cell_type": "markdown",
   "metadata": {},
   "source": [
    "El modelo de Kroning y Penney es un modelo mecánico cuántico unidimensional de un cristal. Pese a esta simplificación, la estructura de banadas de estemodelo comparte caracteristias con las estructuras de bandas de modelos mas sofisticados."
   ]
  },
  {
   "cell_type": "markdown",
   "metadata": {},
   "source": [
    "En el presente trabajo se presetan dos formas de llegar a la solucion analítica del modelo de Kroning y Penney. La primera, resolviendo la ecuación de Schrödinger para un potencial periódico compuesto de barreras de ancho _b_ y separadas una distancia _a_ entre si y tomando el limite cuando _b_ tiende a 0. La segunda solucion resuelve la ecuación de Schrödinger para el potencial periódico compuesto de deltas de Dirac tambien separados una distancia _a_ entre si."
   ]
  },
  {
   "cell_type": "markdown",
   "metadata": {},
   "source": [
    "Así mismo se presenta una solución numérica empleando el metodo variacional para la solucion de la ecuación de Schördinger parapotenciales periodicos."
   ]
  },
  {
   "cell_type": "markdown",
   "metadata": {},
   "source": [
    "<p>\n",
    "<em><strong>Frases y palabras clave:</strong> Modelo de Kroning-Penney, Método variacional,.</em>\n",
    "</p>"
   ]
  },
  {
   "cell_type": "markdown",
   "metadata": {},
   "source": [
    "---"
   ]
  },
  {
   "cell_type": "markdown",
   "metadata": {},
   "source": [
    "## 1. Introducción"
   ]
  },
  {
   "cell_type": "markdown",
   "metadata": {},
   "source": [
    "Los sólidos se conforman usualmente en redes periódicas o cristales: los núcleos atómicos se ordenan respetando cierta estructura periódica. El potencial periódico generado por los iones resultantes impone condiciones de simetría sobre las soluciones para las autofunciones de un electrón sujeto a este potencial regular dentro de la red. El caso de una red unidimensional puede resolverse realizando hipótesis simplificativas, a pesar de las cuales pueden explicarse diversas propiedades de los sólidos, como la conductividad eléctrica."
   ]
  },
  {
   "cell_type": "markdown",
   "metadata": {},
   "source": [
    "## 2. Solución analítica empleando un potencial periódico de barreras y pozos"
   ]
  },
  {
   "cell_type": "markdown",
   "metadata": {},
   "source": [
    "El potencial"
   ]
  },
  {
   "cell_type": "markdown",
   "metadata": {},
   "source": [
    "<center>\n",
    "    <figure>\n",
    "        <img id=\"fig001\" style=\"width:75%\" src=\"./resources/img/fig_01_potential.png\" alt=\"Esquema típico de representación de un sistema tipo oscilador lineal.\"/>\n",
    "        <caption><strong>Figura 1.</strong> El potencial de Kroning-Penney.</caption>\n",
    "    </figure>\n",
    "</center>"
   ]
  },
  {
   "cell_type": "markdown",
   "metadata": {},
   "source": [
    "El problema"
   ]
  },
  {
   "cell_type": "markdown",
   "metadata": {},
   "source": [
    "$$\n",
    "V(x) = \\left\\{\n",
    "\\begin{array}{ccc}\n",
    "V_o & ; & -b < x < 0 \\\\\n",
    "0 & ; & 0 < x < a \n",
    "\\end{array}\n",
    "\\right.\n",
    "$$"
   ]
  },
  {
   "cell_type": "markdown",
   "metadata": {},
   "source": [
    "$$\n",
    "\\left\\{\n",
    "\\begin{array}{ccc}\n",
    "\\displaystyle{\n",
    "    \\frac{d^2 \\psi}{ d x^2} + \\frac{2 m E}{\\hbar^2} \\psi = 0\n",
    "} & ; & -b < x < 0 \\\\\n",
    "\\displaystyle{\n",
    "    \\frac{d^2 \\psi}{ d x^2} + \\frac{2 m \\left(E - V_o\\right)}{\\hbar^2} \\psi = 0\n",
    "} & ; & 0 < x < a \n",
    "\\end{array}\n",
    "\\right.\n",
    "$$"
   ]
  },
  {
   "cell_type": "code",
   "execution_count": null,
   "metadata": {},
   "outputs": [],
   "source": []
  }
 ],
 "metadata": {
  "kernelspec": {
   "display_name": "Python 3",
   "language": "python",
   "name": "python3"
  },
  "language_info": {
   "codemirror_mode": {
    "name": "ipython",
    "version": 3
   },
   "file_extension": ".py",
   "mimetype": "text/x-python",
   "name": "python",
   "nbconvert_exporter": "python",
   "pygments_lexer": "ipython3",
   "version": "3.6.4"
  }
 },
 "nbformat": 4,
 "nbformat_minor": 2
}
