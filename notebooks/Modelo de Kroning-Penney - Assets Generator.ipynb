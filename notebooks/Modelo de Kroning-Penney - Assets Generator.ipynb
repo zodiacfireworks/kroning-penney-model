{
 "cells": [
  {
   "cell_type": "code",
   "execution_count": 1,
   "metadata": {
    "collapsed": true
   },
   "outputs": [],
   "source": [
    "%matplotlib notebook"
   ]
  },
  {
   "cell_type": "code",
   "execution_count": 5,
   "metadata": {
    "collapsed": true
   },
   "outputs": [],
   "source": [
    "from distutils.spawn import find_executable\n",
    "\n",
    "from matplotlib.font_manager import *\n",
    "from matplotlib.collections import *\n",
    "from matplotlib.patches import *\n",
    "from matplotlib.pylab import *\n",
    "from matplotlib import colors\n",
    "\n",
    "import seaborn\n",
    "\n",
    "rem = 16\n",
    "\n",
    "seaborn.set(context='notebook', style='darkgrid')\n",
    "\n",
    "ioff()\n",
    "\n",
    "rc('lines', linewidth=1)\n",
    "rc('font', family='serif')\n",
    "rc('font', size=rem)\n",
    "rc('axes', titlepad=1.500*rem)\n",
    "rc('axes', titlesize=1.728*rem)\n",
    "rc('axes', labelsize=1.200*rem)\n",
    "rc('legend', fontsize=1.000*rem)\n",
    "rc('xtick', labelsize=0.833*rem)\n",
    "rc('ytick', labelsize=0.833*rem)\n",
    "\n",
    "if find_executable('latex'):\n",
    "    rc('text', usetex=True)\n"
   ]
  },
  {
   "cell_type": "code",
   "execution_count": 2,
   "metadata": {
    "collapsed": true
   },
   "outputs": [],
   "source": [
    "def potentialGenerator(a=1., b=0.25):\n",
    "    def potential(x):\n",
    "        n = floor(x / (a + b))\n",
    "        x = x - n * (a + b)\n",
    "        return 0 if (x <= a) else 1\n",
    "    \n",
    "    return potential\n"
   ]
  },
  {
   "cell_type": "code",
   "execution_count": 3,
   "metadata": {},
   "outputs": [
    {
     "ename": "NameError",
     "evalue": "name 'figure' is not defined",
     "output_type": "error",
     "traceback": [
      "\u001b[0;31m---------------------------------------------------------------------------\u001b[0m",
      "\u001b[0;31mNameError\u001b[0m                                 Traceback (most recent call last)",
      "\u001b[0;32m<ipython-input-3-b37742d39d9e>\u001b[0m in \u001b[0;36m<module>\u001b[0;34m()\u001b[0m\n\u001b[1;32m      1\u001b[0m \u001b[0mV\u001b[0m \u001b[0;34m=\u001b[0m \u001b[0mpotentialGenerator\u001b[0m\u001b[0;34m(\u001b[0m\u001b[0;36m1\u001b[0m\u001b[0;34m,\u001b[0m \u001b[0;36m0.5\u001b[0m\u001b[0;34m)\u001b[0m\u001b[0;34m\u001b[0m\u001b[0m\n\u001b[1;32m      2\u001b[0m \u001b[0;34m\u001b[0m\u001b[0m\n\u001b[0;32m----> 3\u001b[0;31m \u001b[0mfig\u001b[0m \u001b[0;34m=\u001b[0m \u001b[0mfigure\u001b[0m\u001b[0;34m(\u001b[0m\u001b[0;36m1\u001b[0m\u001b[0;34m,\u001b[0m \u001b[0mfigsize\u001b[0m\u001b[0;34m=\u001b[0m\u001b[0;34m(\u001b[0m\u001b[0;36m10\u001b[0m\u001b[0;34m,\u001b[0m\u001b[0;36m4\u001b[0m\u001b[0;34m)\u001b[0m\u001b[0;34m,\u001b[0m \u001b[0mframeon\u001b[0m\u001b[0;34m=\u001b[0m\u001b[0;32mFalse\u001b[0m\u001b[0;34m)\u001b[0m\u001b[0;34m\u001b[0m\u001b[0m\n\u001b[0m\u001b[1;32m      4\u001b[0m \u001b[0maxs\u001b[0m \u001b[0;34m=\u001b[0m \u001b[0mfig\u001b[0m\u001b[0;34m.\u001b[0m\u001b[0madd_subplot\u001b[0m\u001b[0;34m(\u001b[0m\u001b[0;34m'111'\u001b[0m\u001b[0;34m)\u001b[0m\u001b[0;34m\u001b[0m\u001b[0m\n\u001b[1;32m      5\u001b[0m \u001b[0maxs\u001b[0m\u001b[0;34m.\u001b[0m\u001b[0mspines\u001b[0m\u001b[0;34m[\u001b[0m\u001b[0;34m'left'\u001b[0m\u001b[0;34m]\u001b[0m\u001b[0;34m.\u001b[0m\u001b[0mset_position\u001b[0m\u001b[0;34m(\u001b[0m\u001b[0;34m[\u001b[0m\u001b[0;34m'data'\u001b[0m\u001b[0;34m,\u001b[0m \u001b[0;36m0\u001b[0m\u001b[0;34m]\u001b[0m\u001b[0;34m)\u001b[0m\u001b[0;34m\u001b[0m\u001b[0m\n",
      "\u001b[0;31mNameError\u001b[0m: name 'figure' is not defined"
     ]
    }
   ],
   "source": [
    "V = potentialGenerator(1, 0.5)\n",
    "\n",
    "fig = figure(1, figsize=(10,4), frameon=False)\n",
    "axs = fig.add_subplot('111')\n",
    "axs.spines['left'].set_position(['data', 0])\n",
    "axs.spines['bottom'].set_position(['data', 0])\n",
    "axs.spines['left'].set_color('#ffffff')\n",
    "axs.spines['bottom'].set_color('#ffffff')\n",
    "axs.set_axisbelow(True)\n",
    "\n",
    "axs.arrow(0, 0, 0, 1.75, head_width=0.05, head_length=0.1, fc='k', ec='k')\n",
    "axs.arrow(-3.25, 0, 5.75, 0, head_width=0.05, head_length=0.1, fc='k', ec='k', ls='dotted')\n",
    "\n",
    "x = linspace(-2.5, -2, 2)\n",
    "y = list(map(V, x))\n",
    "axs.plot(x, y, 'b--')\n",
    "\n",
    "x = linspace(-2, 1.5, 10001)\n",
    "y = list(map(V, x))\n",
    "axs.plot(x, y, 'b-')\n",
    "\n",
    "x = linspace(1.5, 2, 2)\n",
    "y = list(map(V, x))\n",
    "axs.plot(x, y, 'b--')\n",
    "\n",
    "axs.set_xlim(-3.5, 3.0)\n",
    "axs.set_xticks([-0.5, 0, 1])\n",
    "axs.set_xlabel('$x$', rotation=0, position=(0.92, 0), va='bottom', ha='right')\n",
    "axs.set_xticklabels(['$-b$', '$0$', '$a$'], ha='right')\n",
    "\n",
    "axs.set_ylim(-0.25, 2)\n",
    "axs.set_yticks([1])\n",
    "axs.set_ylabel('$V(x)$', rotation=0, position=(0, 0.85), va='bottom', ha='center')\n",
    "axs.set_yticklabels(['$V_o$'], va='bottom')\n",
    "axs.grid('off')\n",
    "fig.tight_layout()\n",
    "fig.savefig('resources/fig_01_potential.png', format='png', bbox_inches='tight', pad_inches=0)\n",
    "fig.show()"
   ]
  },
  {
   "cell_type": "code",
   "execution_count": null,
   "metadata": {
    "collapsed": true
   },
   "outputs": [],
   "source": []
  }
 ],
 "metadata": {
  "kernelspec": {
   "display_name": "Python 3",
   "language": "python",
   "name": "python3"
  },
  "language_info": {
   "codemirror_mode": {
    "name": "ipython",
    "version": 3
   },
   "file_extension": ".py",
   "mimetype": "text/x-python",
   "name": "python",
   "nbconvert_exporter": "python",
   "pygments_lexer": "ipython3",
   "version": "3.6.3"
  }
 },
 "nbformat": 4,
 "nbformat_minor": 2
}
